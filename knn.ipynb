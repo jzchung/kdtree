{
 "cells": [
  {
   "cell_type": "code",
   "execution_count": 3,
   "metadata": {},
   "outputs": [],
   "source": [
    "import numpy as np\n",
    "import pandas as pd\n",
    "from kdtree import caldist"
   ]
  },
  {
   "cell_type": "code",
   "execution_count": null,
   "metadata": {},
   "outputs": [],
   "source": [
    "def knn(train: pd.Dataframe , labels: int, k: int, testx: series) -> int:\n",
    "    # for test item calculte the distances between all the tarining samples\n",
    "    dists = [caldist(testx,x) for x = train.iterrows()]\n",
    "    sorted_dist = np.sort(zip(dists,labels)); # default -- acsending\n",
    "    # cal mode /众数\n",
    "    return labels[k // 2]"
   ]
  },
  {
   "cell_type": "code",
   "execution_count": null,
   "metadata": {},
   "outputs": [],
   "source": [
    "# load data\n",
    "k=5\n",
    "filename = ''\n",
    "df = pd.read_csv(filename, header=None, sep=',') # 1~d --> features the last column --> labels\n",
    "labels = df.iloc[-1]\n",
    "training = df.drop(df.columns[len(data.columns)-1], axis=1)\n",
    "print(knn(training,lables,k))"
   ]
  }
 ],
 "metadata": {
  "kernelspec": {
   "display_name": "Python 3",
   "language": "python",
   "name": "python3"
  },
  "language_info": {
   "codemirror_mode": {
    "name": "ipython",
    "version": 3
   },
   "file_extension": ".py",
   "mimetype": "text/x-python",
   "name": "python",
   "nbconvert_exporter": "python",
   "pygments_lexer": "ipython3",
   "version": "3.7.7"
  }
 },
 "nbformat": 4,
 "nbformat_minor": 2
}
