{
 "cells": [
  {
   "cell_type": "code",
   "execution_count": null,
   "metadata": {},
   "outputs": [],
   "source": [
    "import numpy as np\n",
    "import pandas as pd\n",
    "import math"
   ]
  },
  {
   "cell_type": "code",
   "execution_count": null,
   "metadata": {},
   "outputs": [],
   "source": [
    "def kdtree(x,depth):\n",
    "    # construct root\n",
    "    if depth >= len(x):  # 递归层数不会大于维度数\n",
    "        return {'content': x}\n",
    "    if len(x) == 0:\n",
    "        return\n",
    "    xt = np.transpose(x)\n",
    "    sortedx = np.sort(x[depth])\n",
    "    median_num = sortedx[math.floor(len(xt) / 2)]\n",
    "    content = []  # 放根节点的内容\n",
    "    left = []  # 放左子区的节点\n",
    "    right = []  # 放右子区的节点\n",
    "    # 选出所有特征大小的样本作为root的content属性\n",
    "    for i in range(len(xt)):\n",
    "        if x[depth][i] == median_num:  # 等于切分点，放入根节点\n",
    "            content.append(xt[i, :].tolist())\n",
    "        elif x[depth][i] < median_num:  # 小于切分点，放入左子区\n",
    "            left.append(xt[i, :].tolist())\n",
    "        elif x[depth][i] > median_num:  # 大于切分点，放入右子区\n",
    "            right.append(xt[i, :].tolist())\n",
    "    # root的left和right_child属性则使用递归来实现\n",
    "    print('content: ', content, ' left: ', left, ' right: ', right)\n",
    "    root = {'content': np.transpose(content)}\n",
    "    root['right-child'] = kd_tree(np.transpose(right), depth + 1)\n",
    "    root['left-child'] = kd_tree(np.transpose(left), depth + 1)\n",
    "    return root"
   ]
  },
  {
   "cell_type": "code",
   "execution_count": null,
   "metadata": {},
   "outputs": [],
   "source": [
    "def caldist(n1, n2, p):\n",
    "    # this function is designed to calculate the distance bewteen points, p the is norm\n",
    "    if p==1:\n",
    "        return np.sum(np.abs(n1-n2))\n",
    "    elif p==2:\n",
    "        return np.sqrt(np.sum(np.abs(n1-n2)**2))\n",
    "    else:\n",
    "        # infinite\n",
    "        return np.abs(n1-n2).max()"
   ]
  },
  {
   "cell_type": "code",
   "execution_count": null,
   "metadata": {},
   "outputs": [],
   "source": [
    "def construct(root, x, dept):\n",
    "    if depth >= x.shape[1]:\n",
    "        return x\n",
    "    # x=(num,fea) dtype=dataframe  shape[0]-- #rows shape[1]-- #columns\n",
    "    ell = (dep % x.shape[1]) + 1 #the ell-th feature will be used as the axis\n",
    "    sortedx = np.sort(x[:,ell]);\n",
    "    median_num = np.median(sortedx)\n",
    "    node = [] # node\n",
    "    left = [] # left child\n",
    "    right = [] # right child\n",
    "    # iterate all points to do the partition\n",
    "    for s in range(x.shape[0]):\n",
    "        if x.iloc[s,ell] == median_num:\n",
    "            content.append(x.iloc[s,:])\n",
    "        elif x.iloc[s,ell] < median_num:\n",
    "            left.append(x.iloc[s,:])\n",
    "        elif x.iloc[s,ell] > median_num:\n",
    "            right.append(x.iloc[s,:])\n",
    "    #construct root\n",
    "    curr['node'] = node;\n",
    "    # recurrent to construct the left and right tree\n",
    "    curr['left'] = construct(curr, left, depth + 1)\n",
    "    curr['right'] = construct(curr, right, depth + 1)\n",
    "    curr['parent'] = root # parent node\n",
    "    return curr"
   ]
  },
  {
   "cell_type": "code",
   "execution_count": null,
   "metadata": {},
   "outputs": [],
   "source": [
    "def searchnear(currnode, x, nearest, dept):\n",
    "    # we will discuss this part in four categories\n",
    "    #case 1\n",
    "    for i in range(currnode.shape[0]):\n",
    "        if caldist(currnode['node'][i,:], x,2) < caldist(nearest['node'], x, 2):\n",
    "            return (currnode['node'][i,:], True) # true--the nearest point has changed\n",
    "    #case 2\n",
    "    "
   ]
  },
  {
   "cell_type": "code",
   "execution_count": null,
   "metadata": {},
   "outputs": [],
   "source": [
    "def findleaf(root, x, dept):\n",
    "    # this function is designed to find the corresponding leaf node of the given input node x\n",
    "    if len(root)==0:\n",
    "        return\n",
    "    ell = (dept % x.shape[1]) + 1;\n",
    "    if x[ell] == root['node'][ell]:\n",
    "        return root;\n",
    "    elif x[ell] < root['node'][ell]:\n",
    "        lefts = findleaf(root['left'],x,dept+1)\n",
    "        if len(lefts) != 0:\n",
    "            # this step is for the retracking\n",
    "            searchnear(root, x, lefts, dept)\n",
    "    elif x[ell] > root['node'][ell]:\n",
    "        rights = findleaf(root['right'], x, dept + 1)\n",
    "    if len(lefts)!=0:\n",
    "        return lefts\n",
    "    elif len(rights)!=0:\n",
    "        return rights"
   ]
  },
  {
   "cell_type": "code",
   "execution_count": null,
   "metadata": {},
   "outputs": [],
   "source": []
  },
  {
   "cell_type": "code",
   "execution_count": null,
   "metadata": {},
   "outputs": [],
   "source": [
    "def search(root,x):\n",
    "    # find the nearest leaf nodes\n",
    "    leaf = findleaf(root, x, 0)"
   ]
  },
  {
   "cell_type": "code",
   "execution_count": null,
   "metadata": {},
   "outputs": [],
   "source": [
    "def load(filename):\n",
    "    # load csv\n",
    "    df = pd.read_csv(filename, header=None, sep=',')"
   ]
  }
 ],
 "metadata": {
  "kernelspec": {
   "display_name": "Python 3",
   "language": "python",
   "name": "python3"
  },
  "language_info": {
   "codemirror_mode": {
    "name": "ipython",
    "version": 3
   },
   "file_extension": ".py",
   "mimetype": "text/x-python",
   "name": "python",
   "nbconvert_exporter": "python",
   "pygments_lexer": "ipython3",
   "version": "3.7.7"
  }
 },
 "nbformat": 4,
 "nbformat_minor": 2
}
